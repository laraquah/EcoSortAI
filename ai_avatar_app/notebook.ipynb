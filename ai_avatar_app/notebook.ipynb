{
 "cells": [
  {
   "cell_type": "code",
   "execution_count": 1,
   "id": "05ade5ab-e85b-4f5c-8379-7ce3fc5782dc",
   "metadata": {},
   "outputs": [
    {
     "name": "stdout",
     "output_type": "stream",
     "text": [
      "Added 10 points. Current total: 110\n",
      "Avatar set to: metal_titan.png\n",
      "Voucher 'Tool Kit Discount' redeemed. Remaining points: 100\n"
     ]
    }
   ],
   "source": [
    "import json\n",
    "\n",
    "# Load user data\n",
    "with open(\"user_data.json\", \"r\") as f:\n",
    "    data = json.load(f)\n",
    "\n",
    "# Simulate earning points\n",
    "data[\"points\"] += 10\n",
    "print(f\"Added 10 points. Current total: {data['points']}\")\n",
    "\n",
    "# Simulate setting avatar (only if not set)\n",
    "if not data[\"avatar\"]:\n",
    "    data[\"avatar\"] = \"metal_titan.png\"\n",
    "    print(f\"Avatar set to: {data['avatar']}\")\n",
    "\n",
    "# Simulate voucher redemption\n",
    "test_voucher = \"Tool Kit Discount\"\n",
    "if test_voucher not in data[\"vouchers\"]:\n",
    "    if data[\"points\"] >= 10:\n",
    "        data[\"vouchers\"].append(test_voucher)\n",
    "        data[\"points\"] -= 10\n",
    "        print(f\"Voucher '{test_voucher}' redeemed. Remaining points: {data['points']}\")\n",
    "    else:\n",
    "        print(\"Not enough points to redeem.\")\n",
    "\n",
    "# Save back to file\n",
    "with open(\"user_data.json\", \"w\") as f:\n",
    "    json.dump(data, f, indent=4)\n"
   ]
  },
  {
   "cell_type": "code",
   "execution_count": null,
   "id": "e6216d21-d139-46b0-b753-ebb8a03e9287",
   "metadata": {},
   "outputs": [],
   "source": []
  }
 ],
 "metadata": {
  "kernelspec": {
   "display_name": "Python 3 (ipykernel)",
   "language": "python",
   "name": "python3"
  },
  "language_info": {
   "codemirror_mode": {
    "name": "ipython",
    "version": 3
   },
   "file_extension": ".py",
   "mimetype": "text/x-python",
   "name": "python",
   "nbconvert_exporter": "python",
   "pygments_lexer": "ipython3",
   "version": "3.11.9"
  }
 },
 "nbformat": 4,
 "nbformat_minor": 5
}
